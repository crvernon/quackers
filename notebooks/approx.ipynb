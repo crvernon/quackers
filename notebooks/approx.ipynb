{
 "cells": [
  {
   "cell_type": "code",
   "execution_count": 1,
   "id": "9f56b8c2-1aad-422b-8a32-dc8708614c86",
   "metadata": {},
   "outputs": [],
   "source": [
    "import os\n",
    "import glob\n",
    "\n",
    "import duckdb\n",
    "import pandas as pd\n",
    "import seaborn as sns\n"
   ]
  },
  {
   "cell_type": "code",
   "execution_count": 2,
   "id": "75870dde-c232-4bf7-ad3d-9df375a2a828",
   "metadata": {},
   "outputs": [
    {
     "name": "stdout",
     "output_type": "stream",
     "text": [
      "Exploring 3,457,440 records over 8 files.\n"
     ]
    }
   ],
   "source": [
    "# directory the data was downloaded to locally\n",
    "data_dir = '/Users/d3y010/projects/antonia/data/xdd_parquet'\n",
    "\n",
    "# target glob path\n",
    "glob_path = os.path.join(data_dir, 'S[1-2]_[1-2]/S*_*_[0-1].parquet')\n",
    "\n",
    "# number of files in file query\n",
    "n_files = len(glob.glob(glob_path))\n",
    "\n",
    "# number of records in file query\n",
    "n_records = n_files * 432180  # records per file\n",
    "\n",
    "print(\"Exploring {:,} records over {} files.\".format(n_records, n_files))\n"
   ]
  },
  {
   "cell_type": "code",
   "execution_count": 18,
   "id": "4b44c16b-aa56-431e-94f8-09e384f17e97",
   "metadata": {},
   "outputs": [
    {
     "name": "stdout",
     "output_type": "stream",
     "text": [
      "CPU times: user 81.6 ms, sys: 73.5 ms, total: 155 ms\n",
      "Wall time: 156 ms\n"
     ]
    },
    {
     "data": {
      "text/html": [
       "<div>\n",
       "<style scoped>\n",
       "    .dataframe tbody tr th:only-of-type {\n",
       "        vertical-align: middle;\n",
       "    }\n",
       "\n",
       "    .dataframe tbody tr th {\n",
       "        vertical-align: top;\n",
       "    }\n",
       "\n",
       "    .dataframe thead th {\n",
       "        text-align: right;\n",
       "    }\n",
       "</style>\n",
       "<table border=\"1\" class=\"dataframe\">\n",
       "  <thead>\n",
       "    <tr style=\"text-align: right;\">\n",
       "      <th></th>\n",
       "      <th>demand</th>\n",
       "    </tr>\n",
       "  </thead>\n",
       "  <tbody>\n",
       "    <tr>\n",
       "      <th>0</th>\n",
       "      <td>130</td>\n",
       "    </tr>\n",
       "    <tr>\n",
       "      <th>1</th>\n",
       "      <td>64</td>\n",
       "    </tr>\n",
       "    <tr>\n",
       "      <th>2</th>\n",
       "      <td>1787</td>\n",
       "    </tr>\n",
       "    <tr>\n",
       "      <th>3</th>\n",
       "      <td>5135</td>\n",
       "    </tr>\n",
       "    <tr>\n",
       "      <th>4</th>\n",
       "      <td>4684</td>\n",
       "    </tr>\n",
       "  </tbody>\n",
       "</table>\n",
       "</div>"
      ],
      "text/plain": [
       "   demand\n",
       "0     130\n",
       "1      64\n",
       "2    1787\n",
       "3    5135\n",
       "4    4684"
      ]
     },
     "execution_count": 18,
     "metadata": {},
     "output_type": "execute_result"
    }
   ],
   "source": [
    "%%time\n",
    "\n",
    "sql = f\"\"\"\n",
    "SELECT\n",
    "    demand\n",
    "FROM\n",
    "    '{glob_path}'\n",
    "WHERE\n",
    "    demand > 0;\n",
    "\"\"\"\n",
    "\n",
    "# get query result as a data frame\n",
    "df = duckdb.query(sql).df()\n",
    "\n",
    "df.head()\n"
   ]
  },
  {
   "cell_type": "code",
   "execution_count": 19,
   "id": "b23ba0df-5520-4fc8-9430-3cc26a2ab044",
   "metadata": {},
   "outputs": [
    {
     "data": {
      "text/plain": [
       "(2312195, 1)"
      ]
     },
     "execution_count": 19,
     "metadata": {},
     "output_type": "execute_result"
    }
   ],
   "source": [
    "df.loc[df['demand'] > 0].shape"
   ]
  },
  {
   "cell_type": "code",
   "execution_count": 23,
   "id": "c2c4bddc-0649-4068-bf11-382920b7207a",
   "metadata": {},
   "outputs": [
    {
     "data": {
      "text/plain": [
       "(1, 87004)"
      ]
     },
     "execution_count": 23,
     "metadata": {},
     "output_type": "execute_result"
    }
   ],
   "source": [
    "df.demand.min(), df.demand.max()"
   ]
  },
  {
   "cell_type": "code",
   "execution_count": null,
   "id": "93bb0b83-2175-42a9-a2ae-a55a74a08029",
   "metadata": {},
   "outputs": [],
   "source": [
    "total_records = 3457440\n",
    "nonzero_records = 2312195\n"
   ]
  },
  {
   "cell_type": "code",
   "execution_count": 24,
   "id": "9821edf2-af2a-4130-a4e8-2d090ee24bd2",
   "metadata": {},
   "outputs": [],
   "source": [
    "rng = df.demand.max() - df.demand.min()\n"
   ]
  },
  {
   "cell_type": "code",
   "execution_count": 27,
   "id": "51fe05da-01c6-46c2-a0f7-6fd138589387",
   "metadata": {},
   "outputs": [],
   "source": [
    "interval = rng / 25\n"
   ]
  },
  {
   "cell_type": "code",
   "execution_count": 33,
   "id": "3a07627e-55de-451a-9af4-321083244836",
   "metadata": {},
   "outputs": [
    {
     "data": {
      "text/plain": [
       "(130586, 1)"
      ]
     },
     "execution_count": 33,
     "metadata": {},
     "output_type": "execute_result"
    }
   ],
   "source": [
    "df.loc[df['demand'] < 10].shape\n"
   ]
  },
  {
   "cell_type": "code",
   "execution_count": null,
   "id": "6b554c60-b871-4675-b051-33933bd1a047",
   "metadata": {},
   "outputs": [],
   "source": [
    "\n"
   ]
  }
 ],
 "metadata": {
  "kernelspec": {
   "display_name": "py3.9.4_ml",
   "language": "python",
   "name": "py3.9.4_ml"
  },
  "language_info": {
   "codemirror_mode": {
    "name": "ipython",
    "version": 3
   },
   "file_extension": ".py",
   "mimetype": "text/x-python",
   "name": "python",
   "nbconvert_exporter": "python",
   "pygments_lexer": "ipython3",
   "version": "3.9.4"
  }
 },
 "nbformat": 4,
 "nbformat_minor": 5
}
