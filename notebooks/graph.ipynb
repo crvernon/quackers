{
 "cells": [
  {
   "cell_type": "markdown",
   "id": "a805022b-e63f-4ce7-84d7-2931076255c9",
   "metadata": {},
   "source": [
    "### PyTorch Geometric\n",
    "\n",
    "This is a geometric deep learning library built on top of PyTorch.  Integrating this with our streaming method of reading data that will not exceed our RAM via `duckdb` is handy because we can utilize the `InMemoryDataset` class from PyTorch Geometric.\n"
   ]
  },
  {
   "cell_type": "code",
   "execution_count": null,
   "id": "1ff74b9a-fb16-4739-932b-ea79e6f8ad46",
   "metadata": {},
   "outputs": [],
   "source": [
    "import os\n",
    "import glob\n",
    "import datetime as dt\n",
    "\n",
    "import duckdb\n",
    "import numpy as np\n",
    "import pandas as pd\n",
    "import seaborn as sns\n",
    "import matplotlib.pyplot as plt\n",
    "import matplotlib.dates as dates\n",
    "\n",
    "from matplotlib.patches import Rectangle\n"
   ]
  },
  {
   "cell_type": "code",
   "execution_count": 3,
   "id": "88a15b87-0afa-4429-8469-118fb28df1fb",
   "metadata": {},
   "outputs": [],
   "source": [
    "import networkx as nx\n",
    "import numpy as np\n",
    "import torch\n",
    "\n",
    "from sklearn.preprocessing import StandardScaler\n"
   ]
  },
  {
   "cell_type": "code",
   "execution_count": 13,
   "id": "e8dd9790-b0ff-49e4-bdba-750df94a9fdf",
   "metadata": {},
   "outputs": [],
   "source": [
    "# load graph from networkx library\n",
    "G = nx.karate_club_graph()\n",
    "\n",
    "# retrieve the labels for each node where 0 is 'Mr. Hi' and 1 is 'Officer'\n",
    "labels = np.asarray([G.nodes[i]['club'] != 'Mr. Hi' for i in G.nodes]).astype(np.int64)\n",
    "\n",
    "# create edge index \n",
    "\n",
    "# a sparse matrix is a matrix that is comprised of mostly zero values as opposed to a dense\n",
    "#  matrix that are mostly non-zero values\n",
    "adj = nx.to_scipy_sparse_matrix(G).tocoo()\n"
   ]
  },
  {
   "cell_type": "markdown",
   "id": "42865741-0ed9-4920-810b-1e6c9ada9bb1",
   "metadata": {},
   "source": [
    "#### A note on sparsity\n",
    "\n",
    "A sparse matrix is a matrix that is comprised of mostly zero values as opposed to a dense matrix that are mostly non-zero values.  Generating a sparse matrix reduces memory due to not having to store data in a higher bit depth.\n"
   ]
  },
  {
   "cell_type": "code",
   "execution_count": null,
   "id": "a6fcf2ff-5c53-431b-a3b2-ef024b596303",
   "metadata": {},
   "outputs": [],
   "source": [
    "# generate a sparse matrix from our graph\n",
    "adj = nx.to_scipy_sparse_matrix(G).tocoo()\n",
    "\n"
   ]
  },
  {
   "cell_type": "code",
   "execution_count": null,
   "id": "2f947628-5fe0-4c9b-8f6d-3eadfa928308",
   "metadata": {},
   "outputs": [],
   "source": [
    "row = torch.from_numpy(adj.row.astype(np.int64)).to(torch.long)\n",
    "col = torch.from_numpy(adj.col.astype(np.int64)).to(torch.long)\n",
    "edge_index = torch.stack([row, col], dim=0)"
   ]
  },
  {
   "cell_type": "code",
   "execution_count": null,
   "id": "bef40449-319a-4bcf-adff-39568b8e53f9",
   "metadata": {},
   "outputs": [],
   "source": []
  },
  {
   "cell_type": "code",
   "execution_count": 17,
   "id": "edefc512-3b7b-490d-b14b-eca716137cef",
   "metadata": {},
   "outputs": [
    {
     "data": {
      "text/plain": [
       "tensor([[ 0,  0,  0,  0,  0,  0,  0,  0,  0,  0,  0,  0,  0,  0,  0,  0,  1,  1,\n",
       "          1,  1,  1,  1,  1,  1,  1,  2,  2,  2,  2,  2,  2,  2,  2,  2,  2,  3,\n",
       "          3,  3,  3,  3,  3,  4,  4,  4,  5,  5,  5,  5,  6,  6,  6,  6,  7,  7,\n",
       "          7,  7,  8,  8,  8,  8,  8,  9,  9, 10, 10, 10, 11, 12, 12, 13, 13, 13,\n",
       "         13, 13, 14, 14, 15, 15, 16, 16, 17, 17, 18, 18, 19, 19, 19, 20, 20, 21,\n",
       "         21, 22, 22, 23, 23, 23, 23, 23, 24, 24, 24, 25, 25, 25, 26, 26, 27, 27,\n",
       "         27, 27, 28, 28, 28, 29, 29, 29, 29, 30, 30, 30, 30, 31, 31, 31, 31, 31,\n",
       "         31, 32, 32, 32, 32, 32, 32, 32, 32, 32, 32, 32, 32, 33, 33, 33, 33, 33,\n",
       "         33, 33, 33, 33, 33, 33, 33, 33, 33, 33, 33, 33],\n",
       "        [ 1,  2,  3,  4,  5,  6,  7,  8, 10, 11, 12, 13, 17, 19, 21, 31,  0,  2,\n",
       "          3,  7, 13, 17, 19, 21, 30,  0,  1,  3,  7,  8,  9, 13, 27, 28, 32,  0,\n",
       "          1,  2,  7, 12, 13,  0,  6, 10,  0,  6, 10, 16,  0,  4,  5, 16,  0,  1,\n",
       "          2,  3,  0,  2, 30, 32, 33,  2, 33,  0,  4,  5,  0,  0,  3,  0,  1,  2,\n",
       "          3, 33, 32, 33, 32, 33,  5,  6,  0,  1, 32, 33,  0,  1, 33, 32, 33,  0,\n",
       "          1, 32, 33, 25, 27, 29, 32, 33, 25, 27, 31, 23, 24, 31, 29, 33,  2, 23,\n",
       "         24, 33,  2, 31, 33, 23, 26, 32, 33,  1,  8, 32, 33,  0, 24, 25, 28, 32,\n",
       "         33,  2,  8, 14, 15, 18, 20, 22, 23, 29, 30, 31, 33,  8,  9, 13, 14, 15,\n",
       "         18, 19, 20, 22, 23, 26, 27, 28, 29, 30, 31, 32]])"
      ]
     },
     "execution_count": 17,
     "metadata": {},
     "output_type": "execute_result"
    }
   ],
   "source": [
    "edge_index"
   ]
  },
  {
   "cell_type": "code",
   "execution_count": 20,
   "id": "6bcbc5a0-00e8-40f9-9f5e-06657d0a28f5",
   "metadata": {},
   "outputs": [
    {
     "data": {
      "text/plain": [
       "{'name': \"Zachary's Karate Club\"}"
      ]
     },
     "execution_count": 20,
     "metadata": {},
     "output_type": "execute_result"
    }
   ],
   "source": []
  },
  {
   "cell_type": "code",
   "execution_count": null,
   "id": "dafbff7b-780d-4204-9d97-c5471a10b668",
   "metadata": {},
   "outputs": [],
   "source": []
  }
 ],
 "metadata": {
  "kernelspec": {
   "display_name": "py3.9.4_ml",
   "language": "python",
   "name": "py3.9.4_ml"
  },
  "language_info": {
   "codemirror_mode": {
    "name": "ipython",
    "version": 3
   },
   "file_extension": ".py",
   "mimetype": "text/x-python",
   "name": "python",
   "nbconvert_exporter": "python",
   "pygments_lexer": "ipython3",
   "version": "3.9.4"
  }
 },
 "nbformat": 4,
 "nbformat_minor": 5
}
